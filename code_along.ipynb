{
  "nbformat": 4,
  "nbformat_minor": 0,
  "metadata": {
    "colab": {
      "provenance": [],
      "authorship_tag": "ABX9TyMYYuxL4bKO8H8rpQDkl3sG",
      "include_colab_link": true
    },
    "kernelspec": {
      "name": "python3",
      "display_name": "Python 3"
    },
    "language_info": {
      "name": "python"
    },
    "gpuClass": "standard"
  },
  "cells": [
    {
      "cell_type": "markdown",
      "metadata": {
        "id": "view-in-github",
        "colab_type": "text"
      },
      "source": [
        "<a href=\"https://colab.research.google.com/github/AhamedShimak/datasharing/blob/master/code_along.ipynb\" target=\"_parent\"><img src=\"https://colab.research.google.com/assets/colab-badge.svg\" alt=\"Open In Colab\"/></a>"
      ]
    },
    {
      "cell_type": "markdown",
      "source": [
        "Saving the colab project in Github "
      ],
      "metadata": {
        "id": "8fB4t6CcEkMt"
      }
    },
    {
      "cell_type": "code",
      "source": [
        "import torch\n",
        "import pandas as pd\n",
        "import numpy as np\n",
        "import matplotlib.pyplot as plt\n"
      ],
      "metadata": {
        "id": "fQb72sHRBxT6"
      },
      "execution_count": 2,
      "outputs": []
    },
    {
      "cell_type": "code",
      "source": [
        "!nvidia-smi"
      ],
      "metadata": {
        "id": "GNaR88YgGaZR"
      },
      "execution_count": null,
      "outputs": []
    },
    {
      "cell_type": "markdown",
      "source": [
        "### Tensors"
      ],
      "metadata": {
        "id": "6wWoiSN8G_DQ"
      }
    },
    {
      "cell_type": "code",
      "source": [
        "#scaler\n",
        "scaler= torch.tensor(7)\n",
        "print(scaler.ndim)\n",
        "print(scaler.item())\n",
        "print(scaler.shape)"
      ],
      "metadata": {
        "colab": {
          "base_uri": "https://localhost:8080/"
        },
        "id": "o-PAthr_GzbX",
        "outputId": "0544f02c-b695-480e-ad8c-7c29ce81350c"
      },
      "execution_count": 9,
      "outputs": [
        {
          "output_type": "stream",
          "name": "stdout",
          "text": [
            "0\n",
            "7\n",
            "torch.Size([])\n"
          ]
        }
      ]
    },
    {
      "cell_type": "code",
      "source": [
        "#vector\n",
        "vector=torch.tensor([3,3])\n",
        "print(vector.ndim)\n",
        "print(vector)\n",
        "print(vector.shape)\n",
        "vector[0]"
      ],
      "metadata": {
        "colab": {
          "base_uri": "https://localhost:8080/"
        },
        "id": "D6Sq__imHWbV",
        "outputId": "017b2398-aae5-41d4-8039-3ee9c72b3c12"
      },
      "execution_count": 13,
      "outputs": [
        {
          "output_type": "stream",
          "name": "stdout",
          "text": [
            "1\n",
            "tensor([3, 3])\n",
            "torch.Size([2])\n"
          ]
        },
        {
          "output_type": "execute_result",
          "data": {
            "text/plain": [
              "tensor(3)"
            ]
          },
          "metadata": {},
          "execution_count": 13
        }
      ]
    },
    {
      "cell_type": "code",
      "source": [
        "#MATRIX\n",
        "\n",
        "MATRIX=torch.tensor([[1,2],[2,3],[2,34]])\n",
        "print(MATRIX.ndim)\n",
        "print(MATRIX)\n",
        "print(MATRIX.shape)\n",
        "MATRIX[0]"
      ],
      "metadata": {
        "colab": {
          "base_uri": "https://localhost:8080/"
        },
        "id": "e0eFmrZQIDg0",
        "outputId": "00851e65-3649-426f-f6ec-a25fe5697af5"
      },
      "execution_count": 24,
      "outputs": [
        {
          "output_type": "stream",
          "name": "stdout",
          "text": [
            "2\n",
            "tensor([[ 1,  2],\n",
            "        [ 2,  3],\n",
            "        [ 2, 34]])\n",
            "torch.Size([3, 2])\n"
          ]
        },
        {
          "output_type": "execute_result",
          "data": {
            "text/plain": [
              "tensor([1, 2])"
            ]
          },
          "metadata": {},
          "execution_count": 24
        }
      ]
    },
    {
      "cell_type": "code",
      "source": [
        "#TENSOR\n",
        "\n",
        "TENSOR=torch.tensor([[[1,2],[2,3],[2,34]],[[1,2],[2,3],[2,34]],[[1,2],[2,3],[2,34]]])\n",
        "print(TENSOR.ndim)\n",
        "print(TENSOR)\n",
        "print(TENSOR.shape)\n",
        "TENSOR[0]"
      ],
      "metadata": {
        "colab": {
          "base_uri": "https://localhost:8080/"
        },
        "id": "dkhQMfg0JvDI",
        "outputId": "1393857c-5178-4f68-bc77-d15d11b789d7"
      },
      "execution_count": 22,
      "outputs": [
        {
          "output_type": "stream",
          "name": "stdout",
          "text": [
            "3\n",
            "tensor([[[ 1,  2],\n",
            "         [ 2,  3],\n",
            "         [ 2, 34]],\n",
            "\n",
            "        [[ 1,  2],\n",
            "         [ 2,  3],\n",
            "         [ 2, 34]],\n",
            "\n",
            "        [[ 1,  2],\n",
            "         [ 2,  3],\n",
            "         [ 2, 34]]])\n",
            "torch.Size([3, 3, 2])\n"
          ]
        },
        {
          "output_type": "execute_result",
          "data": {
            "text/plain": [
              "tensor([[ 1,  2],\n",
              "        [ 2,  3],\n",
              "        [ 2, 34]])"
            ]
          },
          "metadata": {},
          "execution_count": 22
        }
      ]
    },
    {
      "cell_type": "markdown",
      "source": [
        "##RandoM TeNSoRs"
      ],
      "metadata": {
        "id": "8hwXMzijM6vv"
      }
    },
    {
      "cell_type": "code",
      "source": [
        "random_tensor=torch.rand(3,224,224)\n",
        "print(random_tensor.ndim)\n",
        "print(random_tensor)\n",
        "print(random_tensor.shape)\n",
        "random_tensor[0]"
      ],
      "metadata": {
        "id": "lQxvGepsK_Xf"
      },
      "execution_count": null,
      "outputs": []
    },
    {
      "cell_type": "code",
      "source": [
        "random_tensor2=torch.rand(224)\n",
        "print(random_tensor2.ndim)\n",
        "print(random_tensor2)\n",
        "print(random_tensor2.shape)\n",
        "random_tensor2[1]"
      ],
      "metadata": {
        "colab": {
          "base_uri": "https://localhost:8080/"
        },
        "id": "5sWCtVkxL2iz",
        "outputId": "86f8d7be-0607-4ba1-bdc1-83838eddac3f"
      },
      "execution_count": 50,
      "outputs": [
        {
          "output_type": "stream",
          "name": "stdout",
          "text": [
            "1\n",
            "tensor([0.9312, 0.6647, 0.1640, 0.8614, 0.2772, 0.7753, 0.3532, 0.0428, 0.3055,\n",
            "        0.5388, 0.4610, 0.6770, 0.1033, 0.5129, 0.1569, 0.9928, 0.8708, 0.0408,\n",
            "        0.4829, 0.3748, 0.5092, 0.5968, 0.2821, 0.3039, 0.7375, 0.3771, 0.9980,\n",
            "        0.0509, 0.9900, 0.7471, 0.9971, 0.4561, 0.3662, 0.3148, 0.4219, 0.9896,\n",
            "        0.1559, 0.8913, 0.1226, 0.6133, 0.1489, 0.1731, 0.3796, 0.7418, 0.7711,\n",
            "        0.9051, 0.9246, 0.2122, 0.8528, 0.8529, 0.0639, 0.0129, 0.8861, 0.6687,\n",
            "        0.1035, 0.1464, 0.5326, 0.1878, 0.2157, 0.0089, 0.0993, 0.2444, 0.0268,\n",
            "        0.4621, 0.7202, 0.5004, 0.3826, 0.6402, 0.7420, 0.7588, 0.9527, 0.1988,\n",
            "        0.4870, 0.1717, 0.6855, 0.4054, 0.2747, 0.4384, 0.8938, 0.9021, 0.6146,\n",
            "        0.0260, 0.5104, 0.6837, 0.7931, 0.5265, 0.0044, 0.3319, 0.9191, 0.0541,\n",
            "        0.0056, 0.8226, 0.1014, 0.6681, 0.7361, 0.8039, 0.9130, 0.2373, 0.4295,\n",
            "        0.0523, 0.4574, 0.3277, 0.4174, 0.8961, 0.6185, 0.7757, 0.4571, 0.9873,\n",
            "        0.7651, 0.5009, 0.5306, 0.8692, 0.8013, 0.9196, 0.7970, 0.6367, 0.9476,\n",
            "        0.8398, 0.8276, 0.1137, 0.6234, 0.5676, 0.5357, 0.9389, 0.8801, 0.0527,\n",
            "        0.6593, 0.4640, 0.0438, 0.0206, 0.2046, 0.3786, 0.7383, 0.6025, 0.9310,\n",
            "        0.1865, 0.0172, 0.3099, 0.5819, 0.6662, 0.3748, 0.0655, 0.9083, 0.4321,\n",
            "        0.1741, 0.6368, 0.6760, 0.0731, 0.4420, 0.3123, 0.8373, 0.7186, 0.1362,\n",
            "        0.4822, 0.3299, 0.6521, 0.1607, 0.1899, 0.0946, 0.7877, 0.1670, 0.7993,\n",
            "        0.9556, 0.7914, 0.2735, 0.1295, 0.6106, 0.6755, 0.6305, 0.8737, 0.4424,\n",
            "        0.4746, 0.6822, 0.8116, 0.0083, 0.0211, 0.0791, 0.7451, 0.7638, 0.3771,\n",
            "        0.8165, 0.2231, 0.0346, 0.1598, 0.8126, 0.9006, 0.7643, 0.3643, 0.9960,\n",
            "        0.8772, 0.5152, 0.5950, 0.1032, 0.5462, 0.3990, 0.5699, 0.2059, 0.2884,\n",
            "        0.8761, 0.4294, 0.9519, 0.5843, 0.8830, 0.9363, 0.3281, 0.7210, 0.1252,\n",
            "        0.2405, 0.9629, 0.0296, 0.0059, 0.7608, 0.4435, 0.3536, 0.1362, 0.8149,\n",
            "        0.5320, 0.0066, 0.4914, 0.4361, 0.7067, 0.5878, 0.1672, 0.3805])\n",
            "torch.Size([224])\n"
          ]
        },
        {
          "output_type": "execute_result",
          "data": {
            "text/plain": [
              "tensor(0.6647)"
            ]
          },
          "metadata": {},
          "execution_count": 50
        }
      ]
    },
    {
      "cell_type": "markdown",
      "source": [
        "##ZEROS AND ONE"
      ],
      "metadata": {
        "id": "kz07YryCQZbS"
      }
    },
    {
      "cell_type": "code",
      "source": [
        "zeros=torch.zeros(2,3,4)\n",
        "print(zeros.ndim)\n",
        "print(zeros)\n",
        "print(zeros.shape)\n",
        "zeros[1]"
      ],
      "metadata": {
        "colab": {
          "base_uri": "https://localhost:8080/"
        },
        "id": "3i8u8nhJPb1Z",
        "outputId": "c71da1ca-5879-4fff-c94b-7c64299d3330"
      },
      "execution_count": 58,
      "outputs": [
        {
          "output_type": "stream",
          "name": "stdout",
          "text": [
            "3\n",
            "tensor([[[0., 0., 0., 0.],\n",
            "         [0., 0., 0., 0.],\n",
            "         [0., 0., 0., 0.]],\n",
            "\n",
            "        [[0., 0., 0., 0.],\n",
            "         [0., 0., 0., 0.],\n",
            "         [0., 0., 0., 0.]]])\n",
            "torch.Size([2, 3, 4])\n"
          ]
        },
        {
          "output_type": "execute_result",
          "data": {
            "text/plain": [
              "tensor([[0., 0., 0., 0.],\n",
              "        [0., 0., 0., 0.],\n",
              "        [0., 0., 0., 0.]])"
            ]
          },
          "metadata": {},
          "execution_count": 58
        }
      ]
    },
    {
      "cell_type": "code",
      "source": [
        "ones=torch.ones(2,3,4)\n",
        "print(ones.ndim)\n",
        "print(ones)\n",
        "print(ones.shape)\n",
        "ones[1]"
      ],
      "metadata": {
        "colab": {
          "base_uri": "https://localhost:8080/"
        },
        "id": "h63SDwzbPxnP",
        "outputId": "69ec5de4-af42-4bc7-bfc8-315c6c0d193d"
      },
      "execution_count": 63,
      "outputs": [
        {
          "output_type": "stream",
          "name": "stdout",
          "text": [
            "3\n",
            "tensor([[[1., 1., 1., 1.],\n",
            "         [1., 1., 1., 1.],\n",
            "         [1., 1., 1., 1.]],\n",
            "\n",
            "        [[1., 1., 1., 1.],\n",
            "         [1., 1., 1., 1.],\n",
            "         [1., 1., 1., 1.]]])\n",
            "torch.Size([2, 3, 4])\n"
          ]
        },
        {
          "output_type": "execute_result",
          "data": {
            "text/plain": [
              "tensor([[1., 1., 1., 1.],\n",
              "        [1., 1., 1., 1.],\n",
              "        [1., 1., 1., 1.]])"
            ]
          },
          "metadata": {},
          "execution_count": 63
        }
      ]
    },
    {
      "cell_type": "markdown",
      "source": [
        "##RANGE OF TENSOR"
      ],
      "metadata": {
        "id": "R62IanL_SRL8"
      }
    },
    {
      "cell_type": "code",
      "source": [
        "torch.arange(start=0,end=100,step=40)"
      ],
      "metadata": {
        "colab": {
          "base_uri": "https://localhost:8080/"
        },
        "id": "I_YqA2fHPyXi",
        "outputId": "cd1194b3-4646-4515-aefb-d7e019606ead"
      },
      "execution_count": 67,
      "outputs": [
        {
          "output_type": "execute_result",
          "data": {
            "text/plain": [
              "tensor([ 0, 40, 80])"
            ]
          },
          "metadata": {},
          "execution_count": 67
        }
      ]
    },
    {
      "cell_type": "code",
      "source": [
        "torch.zeros_like(torch.arange(start=0,end=100,step=40))"
      ],
      "metadata": {
        "colab": {
          "base_uri": "https://localhost:8080/"
        },
        "id": "z5NaVBHbR3q4",
        "outputId": "44f6e32e-997c-4284-9bab-2e3aa15f0d7a"
      },
      "execution_count": 68,
      "outputs": [
        {
          "output_type": "execute_result",
          "data": {
            "text/plain": [
              "tensor([0, 0, 0])"
            ]
          },
          "metadata": {},
          "execution_count": 68
        }
      ]
    },
    {
      "cell_type": "code",
      "source": [
        "torch.arange(start=0,end=100,step=40)*0"
      ],
      "metadata": {
        "colab": {
          "base_uri": "https://localhost:8080/"
        },
        "id": "68COAWsbSgPW",
        "outputId": "bbe838d3-ca49-4808-b552-7afbcff8cece"
      },
      "execution_count": 69,
      "outputs": [
        {
          "output_type": "execute_result",
          "data": {
            "text/plain": [
              "tensor([0, 0, 0])"
            ]
          },
          "metadata": {},
          "execution_count": 69
        }
      ]
    },
    {
      "cell_type": "markdown",
      "source": [
        "##DATA TYPE TENSOR"
      ],
      "metadata": {
        "id": "iR7_tzYFS17Y"
      }
    },
    {
      "cell_type": "code",
      "source": [
        "float_32_tens=torch.tensor([1.0,2.2],dtype=None)\n",
        "float_32_tens"
      ],
      "metadata": {
        "colab": {
          "base_uri": "https://localhost:8080/"
        },
        "id": "HFKc58JpSkph",
        "outputId": "7d63c7e7-44e7-4d73-e9a9-0135026c8a64"
      },
      "execution_count": 79,
      "outputs": [
        {
          "output_type": "execute_result",
          "data": {
            "text/plain": [
              "tensor([1.0000, 2.2000])"
            ]
          },
          "metadata": {},
          "execution_count": 79
        }
      ]
    },
    {
      "cell_type": "code",
      "source": [
        "float_32_tens=torch.tensor([1.0,2.2] ,device=None, requires_grad=False)\n",
        "float_32_tens"
      ],
      "metadata": {
        "colab": {
          "base_uri": "https://localhost:8080/"
        },
        "id": "FHCNbgKsTLXQ",
        "outputId": "f9ec3d56-778a-43dc-8e03-af74d6c11090"
      },
      "execution_count": 82,
      "outputs": [
        {
          "output_type": "execute_result",
          "data": {
            "text/plain": [
              "tensor([1.0000, 2.2000])"
            ]
          },
          "metadata": {},
          "execution_count": 82
        }
      ]
    },
    {
      "cell_type": "code",
      "source": [
        "float_16=float_32_tens.type(torch.float64)\n",
        "float_16"
      ],
      "metadata": {
        "colab": {
          "base_uri": "https://localhost:8080/"
        },
        "id": "_f4_p0SBUXRl",
        "outputId": "b0c685b7-f50b-4078-f526-a90227645902"
      },
      "execution_count": 87,
      "outputs": [
        {
          "output_type": "execute_result",
          "data": {
            "text/plain": [
              "tensor([1.0000, 2.2000], dtype=torch.float64)"
            ]
          },
          "metadata": {},
          "execution_count": 87
        }
      ]
    },
    {
      "cell_type": "markdown",
      "source": [
        "##GET INFO FROM TENSOR"
      ],
      "metadata": {
        "id": "odCiK04cWbRa"
      }
    },
    {
      "cell_type": "code",
      "source": [
        "print(MATRIX.shape)\n",
        "print(MATRIX.dtype)\n",
        "print(MATRIX.device)"
      ],
      "metadata": {
        "colab": {
          "base_uri": "https://localhost:8080/"
        },
        "id": "_GdcgNzwXBdK",
        "outputId": "a8dd2a16-f1dd-4af3-a4b1-67a8cb66c570"
      },
      "execution_count": 91,
      "outputs": [
        {
          "output_type": "stream",
          "name": "stdout",
          "text": [
            "torch.Size([3, 2])\n",
            "torch.int64\n",
            "cpu\n"
          ]
        }
      ]
    },
    {
      "cell_type": "markdown",
      "source": [
        "##MY FUNCTION"
      ],
      "metadata": {
        "id": "8zKnh3Aga-W_"
      }
    },
    {
      "cell_type": "code",
      "source": [
        "import torch\n",
        "def details(tensor):\n",
        "  print(\"\")\n",
        "  print(\"Shape: \",tensor.shape)\n",
        "  print(\"Dimentions: \",tensor.ndim)\n",
        "  print(\"###########\")\n",
        "  print(tensor)\n",
        "  print(\"###########\")\n",
        "  print(\"Tensor Data type: \",tensor.dtype)\n",
        "  print(\"Device: \",tensor.device)\n",
        "  print(\"\")"
      ],
      "metadata": {
        "id": "aYgYxCDHbBTO"
      },
      "execution_count": 2,
      "outputs": []
    },
    {
      "cell_type": "markdown",
      "source": [
        "##MANIPULATING / TENSOR OPERATIONS"
      ],
      "metadata": {
        "id": "s29og89AXv0w"
      }
    },
    {
      "cell_type": "code",
      "source": [
        "t=torch.rand(2,3,4)\n",
        "details(t)\n",
        "t_1=torch.rand(2,3,4)\n",
        "details(t_1)"
      ],
      "metadata": {
        "colab": {
          "base_uri": "https://localhost:8080/"
        },
        "id": "JvzYtlnfYCvt",
        "outputId": "857a564c-8b69-43f6-c180-e55afe2d0d65"
      },
      "execution_count": 3,
      "outputs": [
        {
          "output_type": "stream",
          "name": "stdout",
          "text": [
            "\n",
            "Shape:  torch.Size([2, 3, 4])\n",
            "Dimentions:  3\n",
            "###########\n",
            "tensor([[[0.6768, 0.2560, 0.6969, 0.1026],\n",
            "         [0.7872, 0.3013, 0.8168, 0.0735],\n",
            "         [0.2441, 0.7941, 0.6309, 0.3067]],\n",
            "\n",
            "        [[0.3284, 0.0077, 0.1634, 0.5597],\n",
            "         [0.1879, 0.6758, 0.0633, 0.0298],\n",
            "         [0.7092, 0.8760, 0.9342, 0.6488]]])\n",
            "###########\n",
            "Tensor Data type:  torch.float32\n",
            "Device:  cpu\n",
            "\n",
            "\n",
            "Shape:  torch.Size([2, 3, 4])\n",
            "Dimentions:  3\n",
            "###########\n",
            "tensor([[[0.2803, 0.4340, 0.7691, 0.3508],\n",
            "         [0.1614, 0.7867, 0.7086, 0.5649],\n",
            "         [0.5690, 0.2267, 0.8365, 0.4286]],\n",
            "\n",
            "        [[0.8849, 0.0916, 0.3303, 0.6954],\n",
            "         [0.7975, 0.0286, 0.2194, 0.0805],\n",
            "         [0.9446, 0.3586, 0.3263, 0.7336]]])\n",
            "###########\n",
            "Tensor Data type:  torch.float32\n",
            "Device:  cpu\n",
            "\n"
          ]
        }
      ]
    },
    {
      "cell_type": "code",
      "source": [
        "%%time\n",
        "details(t+1)\n",
        "details(t+t_1)\n",
        "details(t*4)\n",
        "details(t*0)\n",
        "details(t*t_1) #element_wise multiplication\n",
        "details(torch.matmul(torch.rand(2,3),torch.rand(3,2))) #dot product\n",
        "details(torch.rand(200,200,300) @ torch.rand(200,300,200)) #DOT\n",
        "#matmal and @ and mm are same\n",
        "\n"
      ],
      "metadata": {
        "colab": {
          "base_uri": "https://localhost:8080/"
        },
        "id": "sJHlGZGSZ9ac",
        "outputId": "b265b89d-f530-43cf-9c37-92dff0ea119a"
      },
      "execution_count": 4,
      "outputs": [
        {
          "output_type": "stream",
          "name": "stdout",
          "text": [
            "\n",
            "Shape:  torch.Size([2, 3, 4])\n",
            "Dimentions:  3\n",
            "###########\n",
            "tensor([[[1.6768, 1.2560, 1.6969, 1.1026],\n",
            "         [1.7872, 1.3013, 1.8168, 1.0735],\n",
            "         [1.2441, 1.7941, 1.6309, 1.3067]],\n",
            "\n",
            "        [[1.3284, 1.0077, 1.1634, 1.5597],\n",
            "         [1.1879, 1.6758, 1.0633, 1.0298],\n",
            "         [1.7092, 1.8760, 1.9342, 1.6488]]])\n",
            "###########\n",
            "Tensor Data type:  torch.float32\n",
            "Device:  cpu\n",
            "\n",
            "\n",
            "Shape:  torch.Size([2, 3, 4])\n",
            "Dimentions:  3\n",
            "###########\n",
            "tensor([[[0.9571, 0.6900, 1.4660, 0.4535],\n",
            "         [0.9486, 1.0880, 1.5254, 0.6383],\n",
            "         [0.8131, 1.0208, 1.4674, 0.7353]],\n",
            "\n",
            "        [[1.2134, 0.0992, 0.4937, 1.2552],\n",
            "         [0.9854, 0.7044, 0.2828, 0.1103],\n",
            "         [1.6537, 1.2346, 1.2605, 1.3824]]])\n",
            "###########\n",
            "Tensor Data type:  torch.float32\n",
            "Device:  cpu\n",
            "\n",
            "\n",
            "Shape:  torch.Size([2, 3, 4])\n",
            "Dimentions:  3\n",
            "###########\n",
            "tensor([[[2.7072, 1.0241, 2.7876, 0.4105],\n",
            "         [3.1487, 1.2052, 3.2672, 0.2939],\n",
            "         [0.9765, 3.1764, 2.5235, 1.2268]],\n",
            "\n",
            "        [[1.3138, 0.0308, 0.6538, 2.2390],\n",
            "         [0.7515, 2.7032, 0.2534, 0.1194],\n",
            "         [2.8366, 3.5040, 3.7369, 2.5952]]])\n",
            "###########\n",
            "Tensor Data type:  torch.float32\n",
            "Device:  cpu\n",
            "\n",
            "\n",
            "Shape:  torch.Size([2, 3, 4])\n",
            "Dimentions:  3\n",
            "###########\n",
            "tensor([[[0., 0., 0., 0.],\n",
            "         [0., 0., 0., 0.],\n",
            "         [0., 0., 0., 0.]],\n",
            "\n",
            "        [[0., 0., 0., 0.],\n",
            "         [0., 0., 0., 0.],\n",
            "         [0., 0., 0., 0.]]])\n",
            "###########\n",
            "Tensor Data type:  torch.float32\n",
            "Device:  cpu\n",
            "\n",
            "\n",
            "Shape:  torch.Size([2, 3, 4])\n",
            "Dimentions:  3\n",
            "###########\n",
            "tensor([[[0.1897, 0.1111, 0.5360, 0.0360],\n",
            "         [0.1270, 0.2370, 0.5788, 0.0415],\n",
            "         [0.1389, 0.1801, 0.5277, 0.1314]],\n",
            "\n",
            "        [[0.2907, 0.0007, 0.0540, 0.3893],\n",
            "         [0.1498, 0.0193, 0.0139, 0.0024],\n",
            "         [0.6698, 0.3141, 0.3049, 0.4759]]])\n",
            "###########\n",
            "Tensor Data type:  torch.float32\n",
            "Device:  cpu\n",
            "\n",
            "\n",
            "Shape:  torch.Size([2, 2])\n",
            "Dimentions:  2\n",
            "###########\n",
            "tensor([[0.7034, 0.5739],\n",
            "        [0.2455, 0.8308]])\n",
            "###########\n",
            "Tensor Data type:  torch.float32\n",
            "Device:  cpu\n",
            "\n",
            "\n",
            "Shape:  torch.Size([200, 200, 200])\n",
            "Dimentions:  3\n",
            "###########\n",
            "tensor([[[80.8310, 76.6847, 66.8991,  ..., 73.6895, 71.2221, 83.0219],\n",
            "         [87.8568, 84.6269, 71.7708,  ..., 80.8087, 74.6541, 84.7920],\n",
            "         [80.9005, 80.0850, 72.9087,  ..., 78.7224, 74.7289, 85.9514],\n",
            "         ...,\n",
            "         [76.1983, 77.5893, 66.0764,  ..., 74.2280, 69.7505, 79.2086],\n",
            "         [85.5946, 84.2833, 74.2827,  ..., 77.9919, 75.9878, 84.9226],\n",
            "         [82.1985, 83.7500, 74.5341,  ..., 79.1446, 75.2692, 83.7028]],\n",
            "\n",
            "        [[73.3068, 74.8976, 74.7549,  ..., 78.0383, 74.8142, 76.6230],\n",
            "         [79.2297, 79.1546, 76.8510,  ..., 83.8573, 77.1373, 81.1871],\n",
            "         [72.9637, 73.3169, 73.2653,  ..., 76.5947, 72.2462, 75.5789],\n",
            "         ...,\n",
            "         [76.4604, 76.4125, 76.7840,  ..., 79.0031, 73.6785, 80.5338],\n",
            "         [74.7272, 76.0718, 75.9814,  ..., 78.1489, 75.9654, 79.1706],\n",
            "         [75.8612, 77.1254, 76.5177,  ..., 82.4382, 76.0207, 80.5508]],\n",
            "\n",
            "        [[75.7932, 77.9097, 80.1308,  ..., 72.3894, 77.6622, 79.0750],\n",
            "         [70.1276, 71.7134, 74.7986,  ..., 67.6061, 74.7425, 72.8454],\n",
            "         [73.2820, 69.8467, 73.6877,  ..., 69.0360, 73.7176, 71.9643],\n",
            "         ...,\n",
            "         [80.7384, 76.8754, 81.0523,  ..., 74.5042, 81.3332, 80.0521],\n",
            "         [75.5390, 70.7888, 73.5789,  ..., 70.4265, 74.7847, 75.8323],\n",
            "         [76.6390, 76.3862, 79.6712,  ..., 75.4261, 79.1247, 79.6782]],\n",
            "\n",
            "        ...,\n",
            "\n",
            "        [[79.1929, 73.7831, 78.5940,  ..., 77.1207, 79.6556, 79.8308],\n",
            "         [70.3671, 69.7645, 72.6251,  ..., 75.8281, 74.5420, 74.0846],\n",
            "         [74.6370, 73.3875, 77.5115,  ..., 77.6014, 79.7789, 80.0759],\n",
            "         ...,\n",
            "         [81.0944, 76.9762, 80.1263,  ..., 79.1313, 79.3948, 80.4195],\n",
            "         [76.9126, 74.0682, 73.2126,  ..., 71.9994, 74.6127, 77.0929],\n",
            "         [75.8139, 75.4690, 80.2967,  ..., 79.1220, 79.9097, 79.6674]],\n",
            "\n",
            "        [[81.0851, 74.3414, 77.5228,  ..., 81.6576, 76.6629, 78.0771],\n",
            "         [77.5001, 75.9533, 77.6120,  ..., 82.7020, 78.4824, 78.7667],\n",
            "         [74.6845, 67.5417, 75.8479,  ..., 75.4876, 75.1034, 76.4187],\n",
            "         ...,\n",
            "         [77.9696, 74.5457, 76.1571,  ..., 77.0813, 73.1711, 76.0906],\n",
            "         [81.2184, 78.9769, 80.0126,  ..., 83.5903, 80.3638, 80.4168],\n",
            "         [73.6301, 69.9578, 74.8615,  ..., 76.1695, 74.2843, 72.9343]],\n",
            "\n",
            "        [[72.5937, 69.9615, 73.2964,  ..., 71.0275, 75.3559, 68.7921],\n",
            "         [75.6365, 75.3389, 75.8257,  ..., 71.9643, 78.8424, 77.1859],\n",
            "         [80.0523, 78.1552, 77.1208,  ..., 76.9437, 80.5069, 77.0575],\n",
            "         ...,\n",
            "         [78.0875, 77.0694, 74.5547,  ..., 74.2105, 80.5533, 77.3102],\n",
            "         [78.7004, 79.6094, 77.4686,  ..., 75.8616, 76.9360, 78.0967],\n",
            "         [75.5067, 76.1762, 75.7360,  ..., 73.9587, 75.9879, 75.7452]]])\n",
            "###########\n",
            "Tensor Data type:  torch.float32\n",
            "Device:  cpu\n",
            "\n",
            "CPU times: user 484 ms, sys: 91.5 ms, total: 576 ms\n",
            "Wall time: 632 ms\n"
          ]
        }
      ]
    },
    {
      "cell_type": "code",
      "source": [],
      "metadata": {
        "id": "xEnMeJZJbaPs"
      },
      "execution_count": null,
      "outputs": []
    }
  ]
}