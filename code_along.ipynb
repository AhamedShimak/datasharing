{
  "nbformat": 4,
  "nbformat_minor": 0,
  "metadata": {
    "colab": {
      "provenance": [],
      "authorship_tag": "ABX9TyMwqIhNDqeK9iAz0ykyoR8s",
      "include_colab_link": true
    },
    "kernelspec": {
      "name": "python3",
      "display_name": "Python 3"
    },
    "language_info": {
      "name": "python"
    }
  },
  "cells": [
    {
      "cell_type": "markdown",
      "metadata": {
        "id": "view-in-github",
        "colab_type": "text"
      },
      "source": [
        "<a href=\"https://colab.research.google.com/github/AhamedShimak/datasharing/blob/master/code_along.ipynb\" target=\"_parent\"><img src=\"https://colab.research.google.com/assets/colab-badge.svg\" alt=\"Open In Colab\"/></a>"
      ]
    },
    {
      "cell_type": "markdown",
      "source": [
        "Saving the colab project in Github "
      ],
      "metadata": {
        "id": "8fB4t6CcEkMt"
      }
    },
    {
      "cell_type": "code",
      "source": [],
      "metadata": {
        "id": "fQb72sHRBxT6"
      },
      "execution_count": null,
      "outputs": []
    }
  ]
}